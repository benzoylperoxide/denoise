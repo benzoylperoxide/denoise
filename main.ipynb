{
 "cells": [
  {
   "cell_type": "code",
   "execution_count": 1,
   "metadata": {},
   "outputs": [
    {
     "name": "stdout",
     "output_type": "stream",
     "text": [
      "Using device: cpu\n"
     ]
    }
   ],
   "source": [
    "import os\n",
    "import torch\n",
    "from get_audio_data import *\n",
    "\n",
    "cwd = os.getcwd()\n",
    "data_dir = os.path.join(cwd, \"data\")\n",
    "raw_dir = os.path.join(data_dir, \"raw\")\n",
    "\n",
    "device = torch.device(\"cuda\" if torch.cuda.is_available() else \"cpu\")\n",
    "print(f\"Using device: {device}\")\n"
   ]
  },
  {
   "cell_type": "code",
   "execution_count": 2,
   "metadata": {},
   "outputs": [
    {
     "name": "stdout",
     "output_type": "stream",
     "text": [
      "LibriSpeech dataset already exists, skipping download.\n",
      "ESC-50 dataset already exists, skipping download.\n",
      "LibriSpeech already installed, skipping extraction.\n",
      "ESC-50 already installed, skipping extraction.\n"
     ]
    }
   ],
   "source": [
    "# from get_audio_data import *\n",
    "download_datasets(raw_dir)\n",
    "install_librispeech()\n",
    "install_esc50()"
   ]
  }
 ],
 "metadata": {
  "kernelspec": {
   "display_name": "base",
   "language": "python",
   "name": "python3"
  },
  "language_info": {
   "codemirror_mode": {
    "name": "ipython",
    "version": 3
   },
   "file_extension": ".py",
   "mimetype": "text/x-python",
   "name": "python",
   "nbconvert_exporter": "python",
   "pygments_lexer": "ipython3",
   "version": "3.11.7"
  }
 },
 "nbformat": 4,
 "nbformat_minor": 2
}
